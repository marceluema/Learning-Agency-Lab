{
 "cells": [
  {
   "cell_type": "code",
   "execution_count": 2,
   "id": "16b0e702-8956-4b59-b704-aa4554265971",
   "metadata": {},
   "outputs": [
    {
     "name": "stdout",
     "output_type": "stream",
     "text": [
      "Acurácia: 0.4791666666666667\n",
      "Relatório de Classificação:\n",
      "              precision    recall  f1-score   support\n",
      "\n",
      "           1       0.58      0.50      0.54        28\n",
      "           2       0.36      0.32      0.34        28\n",
      "           3       0.34      0.38      0.36        26\n",
      "           4       0.42      0.36      0.39        22\n",
      "           5       0.48      0.62      0.54        21\n",
      "           6       0.75      0.79      0.77        19\n",
      "\n",
      "    accuracy                           0.48       144\n",
      "   macro avg       0.49      0.50      0.49       144\n",
      "weighted avg       0.48      0.48      0.48       144\n",
      "\n"
     ]
    }
   ],
   "source": [
    "# Modelo com random forest\n",
    "\n",
    "import pandas as pd\n",
    "import spacy\n",
    "import numpy as np\n",
    "from sklearn.base import BaseEstimator, TransformerMixin\n",
    "import language_tool_python\n",
    "from sklearn.ensemble import RandomForestClassifier\n",
    "from sklearn.model_selection import train_test_split, cross_val_predict, cross_val_score\n",
    "from sklearn.metrics import accuracy_score, classification_report\n",
    "\n",
    "# Carregar modelo do spaCy\n",
    "nlp = spacy.load('en_core_web_sm')\n",
    "\n",
    "# Instanciar o LanguageTool\n",
    "tool = language_tool_python.LanguageTool('en-US')\n",
    "\n",
    "# Funções para extração de características\n",
    "def count_grammar_errors(text):\n",
    "    matches = tool.check(text)\n",
    "    return len(matches)\n",
    "\n",
    "def calculate_lexical_diversity(doc):\n",
    "    return len(set([token.text.lower() for token in doc])) / len(doc)\n",
    "\n",
    "# Classe para extrair características\n",
    "class TextFeaturesExtractor(BaseEstimator, TransformerMixin):\n",
    "    def __init__(self, nlp):\n",
    "        self.nlp = nlp\n",
    "\n",
    "    def fit(self, X, y=None):\n",
    "        return self\n",
    "\n",
    "    def transform(self, X):\n",
    "        features = []\n",
    "        for doc in self.nlp.pipe(X):\n",
    "            features.append([\n",
    "                len(doc),  # Comprimento do texto\n",
    "                count_grammar_errors(doc.text),  # Número de erros gramaticais\n",
    "                calculate_lexical_diversity(doc)  # Diversidade lexical\n",
    "            ])\n",
    "        return np.array(features)\n",
    "\n",
    "# Carregar o DataFrame\n",
    "df = pd.read_csv('train.csv')\n",
    "df['full_text'] = df['full_text'].str.lower().str.replace('\\n', ' ')\n",
    "n_sample = 120\n",
    "\n",
    "# Função para amostragem\n",
    "def sample(df, group_column, n):\n",
    "    return df.groupby(group_column).apply(lambda x: x.sample(n=min(len(x), n))).reset_index(drop=True)\n",
    "\n",
    "# Filtrar e amostrar dados\n",
    "filter = df[df['score'].isin([1, 2, 3, 4, 5, 6])]\n",
    "df_sample = sample(filter, 'score', n_sample)\n",
    "\n",
    "# Instanciar o extrator de características\n",
    "extractor = TextFeaturesExtractor(nlp)\n",
    "\n",
    "# Aplicar a transformação no DataFrame\n",
    "features_array = extractor.transform(df_sample['full_text'])\n",
    "\n",
    "# Criar novas colunas no DataFrame com as características extraídas\n",
    "df_sample['comprimento_texto'] = features_array[:, 0]\n",
    "df_sample['num_grammatical_errors'] = features_array[:, 1]\n",
    "df_sample['lexical_diversity'] = features_array[:, 2]\n",
    "\n",
    "# Calcular a correlação entre as variáveis\n",
    "correlation_matrix = df_sample[['score', 'comprimento_texto', 'num_grammatical_errors', 'lexical_diversity']].corr()\n",
    "correlation_matrix\n",
    "\n",
    "# Preparar os dados para o modelo de classificação\n",
    "X = df_sample[['comprimento_texto', 'num_grammatical_errors', 'lexical_diversity']]\n",
    "y = df_sample['score']\n",
    "\n",
    "# Dividir os dados em conjuntos de treino e teste\n",
    "X_train, X_test, y_train, y_test = train_test_split(X, y, test_size=0.2, random_state=42)\n",
    "\n",
    "# Instanciar e treinar o classificador\n",
    "clf = RandomForestClassifier(n_estimators=100, random_state=42)\n",
    "clf.fit(X_train, y_train)\n",
    "\n",
    "# Fazer previsões no conjunto de teste\n",
    "y_pred = clf.predict(X_test)\n",
    "\n",
    "# Avaliar o modelo\n",
    "accuracy = accuracy_score(y_test, y_pred)\n",
    "report = classification_report(y_test, y_pred)\n",
    "\n",
    "print(f'Acurácia: {accuracy}')\n",
    "print('Relatório de Classificação:')\n",
    "print(report)\n",
    "\n",
    "# Função para prever a nota de um novo texto\n",
    "def predict_score(text):\n",
    "    doc = nlp(text.lower().replace('\\n', ' '))\n",
    "    features = np.array([[len(doc), count_grammar_errors(doc.text), calculate_lexical_diversity(doc)]])\n",
    "    score_pred = clf.predict(features)\n",
    "    return score_pred[0]\n",
    "\n",
    "# Função para prever notas de vários textos em um DataFrame\n",
    "def predict_scores(df, text_column):\n",
    "    features = extractor.transform(df[text_column])\n",
    "    scores_pred = clf.predict(features)\n",
    "    df['predicted_score'] = scores_pred\n",
    "    return df\n"
   ]
  },
  {
   "cell_type": "code",
   "execution_count": 3,
   "id": "9778fc4c-c854-451b-8442-a35b0ac8daff",
   "metadata": {},
   "outputs": [
    {
     "name": "stdout",
     "output_type": "stream",
     "text": [
      "Acurácia: 0.4791666666666667\n"
     ]
    }
   ],
   "source": [
    "# Avaliar o modelo\n",
    "accuracy = accuracy_score(y_test, y_pred)\n",
    "print(f'Acurácia: {accuracy}')"
   ]
  },
  {
   "cell_type": "code",
   "execution_count": 8,
   "id": "74b7009b-92dc-4ab2-a30d-5f47bee2cbdc",
   "metadata": {},
   "outputs": [
    {
     "name": "stdout",
     "output_type": "stream",
     "text": [
      "Accuracy: 0.42 (+/- 0.30)\n"
     ]
    }
   ],
   "source": [
    "from sklearn.model_selection import train_test_split, cross_val_predict, cross_val_score\n",
    "\n",
    "scores = cross_val_score(clf, X_test, y_test, cv=5, scoring='f1_macro')\n",
    "print(\"Accuracy: %0.2f (+/- %0.2f)\" % (scores.mean(), scores.std() * 2))"
   ]
  }
 ],
 "metadata": {
  "kernelspec": {
   "display_name": "Python 3 (ipykernel)",
   "language": "python",
   "name": "python3"
  },
  "language_info": {
   "codemirror_mode": {
    "name": "ipython",
    "version": 3
   },
   "file_extension": ".py",
   "mimetype": "text/x-python",
   "name": "python",
   "nbconvert_exporter": "python",
   "pygments_lexer": "ipython3",
   "version": "3.11.7"
  }
 },
 "nbformat": 4,
 "nbformat_minor": 5
}
